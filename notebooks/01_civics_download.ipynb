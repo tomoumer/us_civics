{
 "cells": [
  {
   "cell_type": "markdown",
   "metadata": {},
   "source": [
    "# Civics Test and Updates"
   ]
  },
  {
   "cell_type": "markdown",
   "metadata": {},
   "source": [
    "First things first, there's one thing needed. And that is, to download the [2008 version of the civics test](https://www.uscis.gov/sites/default/files/document/questions-and-answers/OoC_100_Questions_2008_Civics_Test_V1.pdf).\n",
    "\n",
    "Secondly, I saved the information of the state I reside in and the ZIP code in a separate file (my_location.json). This way I could easily automate it for any state and/or zip code."
   ]
  },
  {
   "cell_type": "markdown",
   "metadata": {},
   "source": [
    "## Imports"
   ]
  },
  {
   "cell_type": "markdown",
   "metadata": {},
   "source": [
    "Nothing too crazy, I wanted to stick mostly to the basics here. Didn't even import pandas or numpy!"
   ]
  },
  {
   "cell_type": "code",
   "execution_count": 1,
   "metadata": {},
   "outputs": [],
   "source": [
    "from PyPDF2 import PdfReader\n",
    "import re\n",
    "import random\n",
    "import requests\n",
    "from bs4 import BeautifulSoup\n",
    "import json\n",
    "from datetime import date"
   ]
  },
  {
   "cell_type": "markdown",
   "metadata": {},
   "source": [
    "And then load the two files containing the 100 civics questions and answers, as well as the state and ZIP."
   ]
  },
  {
   "cell_type": "code",
   "execution_count": 2,
   "metadata": {},
   "outputs": [
    {
     "data": {
      "text/plain": [
       "11"
      ]
     },
     "execution_count": 2,
     "metadata": {},
     "output_type": "execute_result"
    }
   ],
   "source": [
    "reader = PdfReader('../data/100q.pdf')\n",
    "len(reader.pages)"
   ]
  },
  {
   "cell_type": "code",
   "execution_count": 3,
   "metadata": {},
   "outputs": [],
   "source": [
    "with open('../data/my_location.json') as fi:\n",
    "    my_location = json.load(fi)"
   ]
  },
  {
   "cell_type": "code",
   "execution_count": 4,
   "metadata": {},
   "outputs": [],
   "source": [
    "# example page extract\n",
    "# reader.pages[0].extract_text()"
   ]
  },
  {
   "cell_type": "markdown",
   "metadata": {},
   "source": [
    "## Reading the Q and A from the PDF"
   ]
  },
  {
   "cell_type": "markdown",
   "metadata": {},
   "source": [
    "Parsing the PDF had some tricky elements to it:\n",
    "- One question goes into a second line (so ending on \\n didn't work)\n",
    "- Answers at end of page didn't end with \\n\n",
    "- There's extra white space and some other junk occasionally"
   ]
  },
  {
   "cell_type": "code",
   "execution_count": 5,
   "metadata": {},
   "outputs": [],
   "source": [
    "# second attempt, connect the qs and as\n",
    "civics = {}\n",
    "\n",
    "for p_num in range(len(reader.pages)):\n",
    "    page = reader.pages[p_num]\n",
    "    text = page.extract_text()\n",
    "\n",
    "    # get the start of questions\n",
    "    q_starts = [q.start(0) for q in re.finditer('\\d{1,3}\\.', text)]\n",
    "\n",
    "    for i in range(len(q_starts)):\n",
    "\n",
    "        if i < len(q_starts) - 1:\n",
    "            q_and_a = text[q_starts[i]:q_starts[i+1]]\n",
    "        # the last question on the page\n",
    "        else:\n",
    "            q_and_a = text[q_starts[i]:]\n",
    "            # adding endline for easier parsin lager\n",
    "            q_and_a += '\\n'\n",
    "\n",
    "        # extract and clean the question\n",
    "        question = re.search('\\d{1,3}\\.[\\s\\S]*?[▪|\\[]', q_and_a).group(0)\n",
    "        question = re.sub('\\[', '', question)\n",
    "        question = re.sub('\\s+', ' ', question)\n",
    "        question = re.sub('▪', '', question)\n",
    "        question = re.sub('\\*', '', question)\n",
    "\n",
    "        # extract question number, for dictionary\n",
    "        q_num, question = question.split('.', maxsplit=1)\n",
    "        q_num = int(q_num)\n",
    "        question = question.strip()\n",
    "\n",
    "        # extract the answers\n",
    "        answers = []\n",
    "        for answer in re.findall('▪[\\s\\S]*?[\\n|\\[]', q_and_a):\n",
    "            answer = re.sub('\\[', '', answer)\n",
    "            answer = answer.rstrip()\n",
    "            answer = re.sub('▪\\s+', '', answer)\n",
    "\n",
    "            answers.append(answer)\n",
    "\n",
    "            # hundred is a special case ...because it has at least 2 if not 3 words\n",
    "            # preceding the digit in ()\n",
    "            if  'hundred' in answer:\n",
    "                # start with base and then remove either all digits, or all\n",
    "                tmp = re.search('\\S+\\shundred\\s?\\S*?\\s\\(\\d+\\)', answer).group(0)\n",
    "\n",
    "                answer_nodigit = answer.replace(tmp, tmp.split('(')[0]).strip()\n",
    "                answer_digit = answer.replace(tmp, tmp.split('(')[1]).replace(')', '')\n",
    "\n",
    "                answers.append(answer_nodigit)\n",
    "                answers.append(answer_digit)\n",
    "\n",
    "            # for fuzzy matching, I want to be able to answer with words or numbers\n",
    "            # I was not super happy with splitting EVERYTHING\n",
    "            # so for example two (2) will become two, two (2) and 2                \n",
    "            elif re.search('\\(\\d+\\)', answer):\n",
    "                # start with base and then remove either all digits, or all\n",
    "                answer_nodigit = answer\n",
    "                answer_digit = answer\n",
    "\n",
    "                # there may be more than one number in ()\n",
    "                # take whatever word preceeds the number in (), it's always going to be like nine (9)\n",
    "                for tmp in re.findall('\\S+\\s\\(\\d+\\)', answer):\n",
    "                    answer_nodigit = answer_nodigit.replace(tmp, tmp.split()[0])\n",
    "                    answer_digit = answer_digit.replace(tmp, tmp.split()[1])\n",
    "\n",
    "                answer_nodigit = answer_nodigit.strip()\n",
    "                answer_digit = re.sub('[(|)]', '', answer_digit)\n",
    "                answers.append(answer_nodigit)\n",
    "                answers.append(answer_digit)\n",
    "                \n",
    "\n",
    "        # these comments will later be replaced, but I collected them initially\n",
    "        comments = re.search('\\[[\\s\\S]*?\\]', q_and_a)\n",
    "        if comments:\n",
    "            answers.append(comments.group(0))\n",
    "\n",
    "        # save in dictionary of dictionaries\n",
    "        # I decided it's going to be easier to access by #, since spelling can differ online\n",
    "        civics[q_num] = {question: answers}"
   ]
  },
  {
   "cell_type": "code",
   "execution_count": 6,
   "metadata": {},
   "outputs": [],
   "source": [
    "# base_answer = 'twenty-five (25) and nine (9)'\n",
    "# print('original', base_answer)\n",
    "\n",
    "# digits_only = base_answer\n",
    "# no_digits = base_answer\n",
    "# for tmp in re.findall('\\S+\\s\\(\\d+\\)', base_answer):\n",
    "#     digits_only = digits_only.replace(tmp, tmp.split()[0])\n",
    "#     no_digits = no_digits.replace(tmp, tmp.split()[1])\n",
    "\n",
    "# no_digits = re.sub('[(|)]', '', no_digits)\n",
    "\n",
    "# print('digits', digits_only.strip())\n",
    "# print('no digits', no_digits.strip())"
   ]
  },
  {
   "cell_type": "code",
   "execution_count": 7,
   "metadata": {},
   "outputs": [],
   "source": [
    "# to print it out\n",
    "# civics"
   ]
  },
  {
   "cell_type": "markdown",
   "metadata": {},
   "source": [
    "## Scraping the updated questions and State-specific info"
   ]
  },
  {
   "cell_type": "markdown",
   "metadata": {},
   "source": [
    "Get the governor, house rep., senators and the capital of your state (again, obtained from the file my_location.json)"
   ]
  },
  {
   "cell_type": "code",
   "execution_count": 8,
   "metadata": {},
   "outputs": [],
   "source": [
    "r = requests.get(f'https://www.usa.gov/states/{my_location[\"state_full\"].lower()}')\n",
    "\n",
    "if r.status_code != 200:\n",
    "    print('there was a problem with loading the page!')\n",
    "\n",
    "soup = BeautifulSoup(r.text)\n",
    "governor = soup.find('span', \n",
    "            {'class': \"field field--name-field-governor field--type-link field--label-hidden field__item line-height-2\"}\n",
    "            ).text\n",
    "\n",
    "# remove \"Governor\" from name\n",
    "governor = re.sub('Governor ', '', governor)"
   ]
  },
  {
   "cell_type": "code",
   "execution_count": 9,
   "metadata": {},
   "outputs": [],
   "source": [
    "r = requests.get(f'https://ziplook.house.gov/htbin/findrep_house?ZIP={my_location[\"my_zip\"]}')\n",
    "\n",
    "if r.status_code != 200:\n",
    "    print('there was a problem with loading the page!')\n",
    "\n",
    "soup = BeautifulSoup(r.text)\n",
    "house_rep = soup.find('div', {'id': 'PossibleReps'}).find('a').text\n",
    "house_rep = house_rep.strip()"
   ]
  },
  {
   "cell_type": "code",
   "execution_count": 10,
   "metadata": {},
   "outputs": [],
   "source": [
    "r = requests.get('https://www.senate.gov/general/contact_information/senators_cfm.xml')\n",
    "\n",
    "if r.status_code != 200:\n",
    "    print('there was a problem with loading the page!')\n",
    "\n",
    "soup = BeautifulSoup(r.text, features='xml')\n",
    "senators = []\n",
    "for state in soup.find_all('state'):\n",
    "    if state.get_text() == my_location['state_abbr'].upper():\n",
    "        senators.append(state.parent.find('first_name').get_text() + ' ' \n",
    "                        + state.parent.find('last_name').get_text())"
   ]
  },
  {
   "cell_type": "code",
   "execution_count": 11,
   "metadata": {},
   "outputs": [],
   "source": [
    "r = requests.get('https://www.britannica.com/topic/list-of-state-capitals-in-the-United-States-2119210')\n",
    "\n",
    "if r.status_code != 200:\n",
    "    print('there was a problem with loading the page!')\n",
    "\n",
    "soup = BeautifulSoup(r.text)\n",
    "# I could use pandas here as well ...\n",
    "# but essentially, once I hit the state, the next row is going to be the capital\n",
    "table_cells = soup.find_all('td')\n",
    "\n",
    "for i, cell in enumerate(table_cells):\n",
    "    if cell.get_text() == my_location['state_full'].capitalize():\n",
    "\n",
    "        #print(table_cells[i+1].get_text())\n",
    "        capital = table_cells[i+1].get_text()\n",
    "        break"
   ]
  },
  {
   "cell_type": "code",
   "execution_count": 12,
   "metadata": {},
   "outputs": [],
   "source": [
    "r = requests.get('https://www.uscis.gov/citizenship/find-study-materials-and-resources/check-for-test-updates')\n",
    "\n",
    "if r.status_code != 200:\n",
    "    print('there was a problem with loading the page!')\n",
    "\n",
    "soup = BeautifulSoup(r.text)\n",
    "\n",
    "civics_updates = {}\n",
    "\n",
    "# the logic here is that a question will be <p>\n",
    "# followed by a list\n",
    "# and then possibly another <p> which just says which page to visit\n",
    "for child in soup.find('div', {'class': 'accordion__panel'}).children:\n",
    "    if child.name == 'p':\n",
    "\n",
    "        # first p will be a question\n",
    "        question = child.get_text()\n",
    "        if re.search('\\d{1,3}\\.', question):\n",
    "            question = re.sub('\\*', '', question)\n",
    "            # same logic as before\n",
    "            q_num, question = question.split('.', maxsplit=1)\n",
    "            q_num = int(q_num)\n",
    "            question = question.strip()       \n",
    "\n",
    "        # second will be just \"visit senate.gov\"\n",
    "        else:\n",
    "            continue\n",
    "\n",
    "    elif child.name == 'ul':\n",
    "        #answers = [li.get_text().strip() for li in child.children]\n",
    "        answers = []\n",
    "        for li in child.children:\n",
    "            answer = li.get_text().strip() \n",
    "            answers.append(answer)\n",
    "\n",
    "            # easier than above since there's currently no instances of hundreds\n",
    "            # or multiple digits in different ()                \n",
    "            if re.search('\\(\\d+\\)', answer):\n",
    "                answer_digit = re.findall('\\((\\d+)\\)', answer)\n",
    "                answers.extend(answer_digit)\n",
    "\n",
    "                answer_nodigit = re.sub('\\s*\\(\\d+\\)\\s*', ' ', answer)\n",
    "                answer_nodigit = answer_nodigit.strip()\n",
    "                answers.append(answer_nodigit)\n",
    "        \n",
    "\n",
    "        # when we get the answers we can save them\n",
    "        civics_updates[q_num] = {question: answers}\n",
    "    else:\n",
    "        print('uh oh, new unrecognized type!')"
   ]
  },
  {
   "cell_type": "code",
   "execution_count": 13,
   "metadata": {},
   "outputs": [],
   "source": [
    "# civics_updates"
   ]
  },
  {
   "cell_type": "markdown",
   "metadata": {},
   "source": [
    "## Putting it all together"
   ]
  },
  {
   "cell_type": "markdown",
   "metadata": {},
   "source": [
    "First replace the original question with the updates form USCIS."
   ]
  },
  {
   "cell_type": "code",
   "execution_count": 14,
   "metadata": {},
   "outputs": [],
   "source": [
    "# insert the civics updates into the civics_final\n",
    "civics_final = civics.copy()\n",
    "\n",
    "# update from civics\n",
    "for q_num, q_and_a in civics_updates.items():\n",
    "    civics_final[q_num] = q_and_a"
   ]
  },
  {
   "cell_type": "markdown",
   "metadata": {},
   "source": [
    "Second, add the names for governor, senators, representative and capital of state."
   ]
  },
  {
   "cell_type": "code",
   "execution_count": 15,
   "metadata": {},
   "outputs": [],
   "source": [
    "for q_num, q_and_a in civics_final.items():\n",
    "\n",
    "    if  'U.S. Senators now?' in list(q_and_a.keys())[0]:\n",
    "        civics_final[q_num] = {list(q_and_a.keys())[0]: senators}\n",
    "\n",
    "    elif 'Name your U.S. Representative.' in list(q_and_a.keys())[0]:\n",
    "        # note just for consistency, make house_rep, gov and capital a list\n",
    "        civics_final[q_num] = {list(q_and_a.keys())[0]: [house_rep]}\n",
    "    \n",
    "    elif 'Who is the Governor of your state now?' in list(q_and_a.keys())[0]:\n",
    "        civics_final[q_num] = {list(q_and_a.keys())[0]: [governor]}\n",
    "\n",
    "    elif 'What is the capital of your state?' in list(q_and_a.keys())[0]:\n",
    "        civics_final[q_num] = {list(q_and_a.keys())[0]: [capital]}\n"
   ]
  },
  {
   "cell_type": "markdown",
   "metadata": {},
   "source": [
    "One more fix! there's a few questions that ask for 2 answers, but the answer is provided in a single line, separated by \"and\""
   ]
  },
  {
   "cell_type": "code",
   "execution_count": 16,
   "metadata": {},
   "outputs": [],
   "source": [
    "for q_num, q_and_a in civics_final.items():\n",
    "\n",
    "    q = list(q_and_a.keys())[0]\n",
    "    a = list(q_and_a.values())[0]\n",
    "\n",
    "    if ('two' in q) and len(a) == 1:\n",
    "        \n",
    "        # make that 2 lines\n",
    "        civics_final[q_num] = {q: a[0].split(' and ')}\n",
    "\n",
    "    # possibly go back and fix this?\n",
    "    #if q == 'Where is the Statue of Liberty?':\n",
    "    #    print(q)\n",
    "    #    print(a)\n",
    "\n",
    "    "
   ]
  },
  {
   "cell_type": "code",
   "execution_count": 17,
   "metadata": {},
   "outputs": [],
   "source": [
    "# to print it out\n",
    "#civics_final"
   ]
  },
  {
   "cell_type": "markdown",
   "metadata": {},
   "source": [
    "Save it to a file, including today's date!"
   ]
  },
  {
   "cell_type": "code",
   "execution_count": 18,
   "metadata": {},
   "outputs": [],
   "source": [
    "with open(f'../data/civics{date.today()}.json', 'w', encoding='utf-8') as f:\n",
    "    json.dump(civics_final, f, ensure_ascii=False, indent=4)"
   ]
  }
 ],
 "metadata": {
  "kernelspec": {
   "display_name": "base",
   "language": "python",
   "name": "python3"
  },
  "language_info": {
   "codemirror_mode": {
    "name": "ipython",
    "version": 3
   },
   "file_extension": ".py",
   "mimetype": "text/x-python",
   "name": "python",
   "nbconvert_exporter": "python",
   "pygments_lexer": "ipython3",
   "version": "3.11.8"
  }
 },
 "nbformat": 4,
 "nbformat_minor": 2
}
