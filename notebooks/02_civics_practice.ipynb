{
 "cells": [
  {
   "cell_type": "markdown",
   "metadata": {},
   "source": [
    "# Civics Practice"
   ]
  },
  {
   "cell_type": "markdown",
   "metadata": {},
   "source": [
    "This notebook is to be run after the 01, which produces an updated version of the civics test"
   ]
  },
  {
   "cell_type": "markdown",
   "metadata": {},
   "source": [
    "## Imports"
   ]
  },
  {
   "cell_type": "code",
   "execution_count": 2,
   "metadata": {},
   "outputs": [],
   "source": [
    "import random\n",
    "import json"
   ]
  },
  {
   "cell_type": "markdown",
   "metadata": {},
   "source": [
    "And then load the two files containing the 100 civics questions and answers, as well as the state and ZIP."
   ]
  },
  {
   "cell_type": "code",
   "execution_count": 3,
   "metadata": {},
   "outputs": [],
   "source": [
    "with open('../data/civics2024-05-05.json') as fi:\n",
    "    civics_final = json.load(fi)"
   ]
  },
  {
   "cell_type": "code",
   "execution_count": 9,
   "metadata": {},
   "outputs": [],
   "source": [
    "# civics_final"
   ]
  },
  {
   "cell_type": "markdown",
   "metadata": {},
   "source": [
    "## Quiz time!"
   ]
  },
  {
   "cell_type": "code",
   "execution_count": 11,
   "metadata": {},
   "outputs": [],
   "source": [
    "# how many questions I want to solve, the default is 10 as it's during the interview!\n",
    "max_questions = 10\n",
    "\n",
    "# generate 10 question numbers\n",
    "random_questions = random.sample(range(1,101), max_questions)\n",
    "\n",
    "# make it an iterable so I can do one at a time!\n",
    "random_question = iter(random_questions)\n",
    "\n",
    "# to count how many I did\n",
    "questions_taken = 0"
   ]
  },
  {
   "cell_type": "code",
   "execution_count": 42,
   "metadata": {},
   "outputs": [
    {
     "name": "stdout",
     "output_type": "stream",
     "text": [
      "congrats, finished all 10 questions!\n"
     ]
    }
   ],
   "source": [
    "if questions_taken < max_questions:\n",
    "    questions_taken += 1\n",
    "    print('question nr.', questions_taken, 'out of', max_questions)\n",
    "\n",
    "    # I'm hiding this, but if interested in which question number is in the actual test\n",
    "    current_question_number = str(next(random_question))\n",
    "\n",
    "    # it's a dictionary of dictionaries\n",
    "    current_question = list(civics_final[current_question_number].keys())[0]\n",
    "    current_answer = list(civics_final[current_question_number].values())[0]\n",
    "else:\n",
    "    print('congrats, finished all 10 questions!')"
   ]
  },
  {
   "cell_type": "code",
   "execution_count": 43,
   "metadata": {},
   "outputs": [
    {
     "data": {
      "text/plain": [
       "'There were 13 original states. Name three .'"
      ]
     },
     "execution_count": 43,
     "metadata": {},
     "output_type": "execute_result"
    }
   ],
   "source": [
    "current_question"
   ]
  },
  {
   "cell_type": "code",
   "execution_count": 44,
   "metadata": {},
   "outputs": [
    {
     "data": {
      "text/plain": [
       "['New Hampshire',\n",
       " 'Massachusetts',\n",
       " 'Rhode Island',\n",
       " 'Connecticut',\n",
       " 'New York',\n",
       " 'New Jersey',\n",
       " 'Pennsylvania',\n",
       " 'Delaware',\n",
       " 'Maryland',\n",
       " 'Virginia',\n",
       " 'North Carolina',\n",
       " 'South Carolina',\n",
       " 'Georgia']"
      ]
     },
     "execution_count": 44,
     "metadata": {},
     "output_type": "execute_result"
    }
   ],
   "source": [
    "current_answer"
   ]
  },
  {
   "cell_type": "code",
   "execution_count": null,
   "metadata": {},
   "outputs": [],
   "source": []
  }
 ],
 "metadata": {
  "kernelspec": {
   "display_name": "base",
   "language": "python",
   "name": "python3"
  },
  "language_info": {
   "codemirror_mode": {
    "name": "ipython",
    "version": 3
   },
   "file_extension": ".py",
   "mimetype": "text/x-python",
   "name": "python",
   "nbconvert_exporter": "python",
   "pygments_lexer": "ipython3",
   "version": "3.11.8"
  }
 },
 "nbformat": 4,
 "nbformat_minor": 2
}
